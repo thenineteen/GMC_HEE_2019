{
 "cells": [
  {
   "cell_type": "code",
   "execution_count": 1,
   "metadata": {},
   "outputs": [],
   "source": [
    "import numpy as np\n",
    "import pandas as pd\n",
    "import seaborn as sns\n",
    "import matplotlib.pyplot as plt\n",
    "# import statsmodels\n",
    "from scipy.stats import fisher_exact, chi2_contingency"
   ]
  },
  {
   "cell_type": "code",
   "execution_count": 2,
   "metadata": {},
   "outputs": [],
   "source": [
    "# riskratio_confint\n",
    "from statsmodels.stats.contingency_tables import Table2x2\n"
   ]
  },
  {
   "cell_type": "code",
   "execution_count": 3,
   "metadata": {},
   "outputs": [],
   "source": [
    "# complete path_to_file:\n",
    "\n",
    "path_to_file = r'D:\\Ali USB Backup\\Special\\combined religion vs speciality (1).xlsx'\n",
    "\n",
    "df_GMC = pd.read_excel(path_to_file, sheet_name = 'GMC data', usecols=\"A:J\", nrows=14, index_col=0, engine='openpyxl')  # non-indexed\n",
    "df_HEE = pd.read_excel(path_to_file, sheet_name = 'HEE data combined', usecols=\"A:J\", nrows=14, index_col=0, engine='openpyxl')  # non-indexed\n"
   ]
  },
  {
   "cell_type": "code",
   "execution_count": null,
   "metadata": {},
   "outputs": [],
   "source": []
  },
  {
   "cell_type": "code",
   "execution_count": 4,
   "metadata": {},
   "outputs": [
    {
     "data": {
      "text/html": [
       "<div>\n",
       "<style scoped>\n",
       "    .dataframe tbody tr th:only-of-type {\n",
       "        vertical-align: middle;\n",
       "    }\n",
       "\n",
       "    .dataframe tbody tr th {\n",
       "        vertical-align: top;\n",
       "    }\n",
       "\n",
       "    .dataframe thead th {\n",
       "        text-align: right;\n",
       "    }\n",
       "</style>\n",
       "<table border=\"1\" class=\"dataframe\">\n",
       "  <thead>\n",
       "    <tr style=\"text-align: right;\">\n",
       "      <th></th>\n",
       "      <th>Atheism</th>\n",
       "      <th>Buddhism</th>\n",
       "      <th>Christianity</th>\n",
       "      <th>Hinduism</th>\n",
       "      <th>islam</th>\n",
       "      <th>judaism</th>\n",
       "      <th>sikh</th>\n",
       "      <th>other</th>\n",
       "      <th>unknown</th>\n",
       "    </tr>\n",
       "  </thead>\n",
       "  <tbody>\n",
       "    <tr>\n",
       "      <th>Anaesthetics</th>\n",
       "      <td>307</td>\n",
       "      <td>12</td>\n",
       "      <td>239</td>\n",
       "      <td>71</td>\n",
       "      <td>70</td>\n",
       "      <td>6</td>\n",
       "      <td>9</td>\n",
       "      <td>40</td>\n",
       "      <td>153</td>\n",
       "    </tr>\n",
       "    <tr>\n",
       "      <th>Emergency medicine</th>\n",
       "      <td>300</td>\n",
       "      <td>24</td>\n",
       "      <td>283</td>\n",
       "      <td>103</td>\n",
       "      <td>259</td>\n",
       "      <td>6</td>\n",
       "      <td>10</td>\n",
       "      <td>48</td>\n",
       "      <td>166</td>\n",
       "    </tr>\n",
       "    <tr>\n",
       "      <th>GP</th>\n",
       "      <td>902</td>\n",
       "      <td>149</td>\n",
       "      <td>2060</td>\n",
       "      <td>533</td>\n",
       "      <td>1579</td>\n",
       "      <td>17</td>\n",
       "      <td>65</td>\n",
       "      <td>247</td>\n",
       "      <td>975</td>\n",
       "    </tr>\n",
       "    <tr>\n",
       "      <th>Medicine</th>\n",
       "      <td>464</td>\n",
       "      <td>177</td>\n",
       "      <td>635</td>\n",
       "      <td>226</td>\n",
       "      <td>899</td>\n",
       "      <td>20</td>\n",
       "      <td>30</td>\n",
       "      <td>91</td>\n",
       "      <td>442</td>\n",
       "    </tr>\n",
       "    <tr>\n",
       "      <th>O&amp;G</th>\n",
       "      <td>108</td>\n",
       "      <td>24</td>\n",
       "      <td>302</td>\n",
       "      <td>93</td>\n",
       "      <td>263</td>\n",
       "      <td>6</td>\n",
       "      <td>9</td>\n",
       "      <td>29</td>\n",
       "      <td>105</td>\n",
       "    </tr>\n",
       "    <tr>\n",
       "      <th>occupational medicine</th>\n",
       "      <td>2</td>\n",
       "      <td>0</td>\n",
       "      <td>12</td>\n",
       "      <td>2</td>\n",
       "      <td>3</td>\n",
       "      <td>1</td>\n",
       "      <td>0</td>\n",
       "      <td>3</td>\n",
       "      <td>2</td>\n",
       "    </tr>\n",
       "    <tr>\n",
       "      <th>opthalmology</th>\n",
       "      <td>49</td>\n",
       "      <td>9</td>\n",
       "      <td>95</td>\n",
       "      <td>21</td>\n",
       "      <td>81</td>\n",
       "      <td>3</td>\n",
       "      <td>3</td>\n",
       "      <td>21</td>\n",
       "      <td>86</td>\n",
       "    </tr>\n",
       "    <tr>\n",
       "      <th>Paediatrics</th>\n",
       "      <td>155</td>\n",
       "      <td>19</td>\n",
       "      <td>316</td>\n",
       "      <td>76</td>\n",
       "      <td>266</td>\n",
       "      <td>6</td>\n",
       "      <td>4</td>\n",
       "      <td>40</td>\n",
       "      <td>118</td>\n",
       "    </tr>\n",
       "    <tr>\n",
       "      <th>pathology</th>\n",
       "      <td>33</td>\n",
       "      <td>2</td>\n",
       "      <td>52</td>\n",
       "      <td>13</td>\n",
       "      <td>31</td>\n",
       "      <td>2</td>\n",
       "      <td>0</td>\n",
       "      <td>13</td>\n",
       "      <td>38</td>\n",
       "    </tr>\n",
       "    <tr>\n",
       "      <th>Pschiatry</th>\n",
       "      <td>133</td>\n",
       "      <td>17</td>\n",
       "      <td>166</td>\n",
       "      <td>39</td>\n",
       "      <td>101</td>\n",
       "      <td>0</td>\n",
       "      <td>6</td>\n",
       "      <td>33</td>\n",
       "      <td>88</td>\n",
       "    </tr>\n",
       "    <tr>\n",
       "      <th>public health</th>\n",
       "      <td>196</td>\n",
       "      <td>8</td>\n",
       "      <td>260</td>\n",
       "      <td>36</td>\n",
       "      <td>59</td>\n",
       "      <td>2</td>\n",
       "      <td>6</td>\n",
       "      <td>67</td>\n",
       "      <td>139</td>\n",
       "    </tr>\n",
       "    <tr>\n",
       "      <th>radiology</th>\n",
       "      <td>150</td>\n",
       "      <td>23</td>\n",
       "      <td>185</td>\n",
       "      <td>93</td>\n",
       "      <td>253</td>\n",
       "      <td>3</td>\n",
       "      <td>13</td>\n",
       "      <td>39</td>\n",
       "      <td>208</td>\n",
       "    </tr>\n",
       "    <tr>\n",
       "      <th>Surgery</th>\n",
       "      <td>232</td>\n",
       "      <td>15</td>\n",
       "      <td>397</td>\n",
       "      <td>146</td>\n",
       "      <td>391</td>\n",
       "      <td>17</td>\n",
       "      <td>15</td>\n",
       "      <td>57</td>\n",
       "      <td>301</td>\n",
       "    </tr>\n",
       "    <tr>\n",
       "      <th>other</th>\n",
       "      <td>50</td>\n",
       "      <td>7</td>\n",
       "      <td>49</td>\n",
       "      <td>14</td>\n",
       "      <td>43</td>\n",
       "      <td>0</td>\n",
       "      <td>0</td>\n",
       "      <td>9</td>\n",
       "      <td>23</td>\n",
       "    </tr>\n",
       "  </tbody>\n",
       "</table>\n",
       "</div>"
      ],
      "text/plain": [
       "                       Atheism  Buddhism  Christianity  Hinduism  islam  \\\n",
       "Anaesthetics               307        12           239        71     70   \n",
       "Emergency medicine         300        24           283       103    259   \n",
       "GP                         902       149          2060       533   1579   \n",
       "Medicine                   464       177           635       226    899   \n",
       "O&G                        108        24           302        93    263   \n",
       "occupational medicine        2         0            12         2      3   \n",
       "opthalmology                49         9            95        21     81   \n",
       "Paediatrics                155        19           316        76    266   \n",
       "pathology                   33         2            52        13     31   \n",
       "Pschiatry                  133        17           166        39    101   \n",
       "public health              196         8           260        36     59   \n",
       "radiology                  150        23           185        93    253   \n",
       "Surgery                    232        15           397       146    391   \n",
       "other                       50         7            49        14     43   \n",
       "\n",
       "                       judaism  sikh  other  unknown  \n",
       "Anaesthetics                 6     9     40      153  \n",
       "Emergency medicine           6    10     48      166  \n",
       "GP                          17    65    247      975  \n",
       "Medicine                    20    30     91      442  \n",
       "O&G                          6     9     29      105  \n",
       "occupational medicine        1     0      3        2  \n",
       "opthalmology                 3     3     21       86  \n",
       "Paediatrics                  6     4     40      118  \n",
       "pathology                    2     0     13       38  \n",
       "Pschiatry                    0     6     33       88  \n",
       "public health                2     6     67      139  \n",
       "radiology                    3    13     39      208  \n",
       "Surgery                     17    15     57      301  \n",
       "other                        0     0      9       23  "
      ]
     },
     "execution_count": 4,
     "metadata": {},
     "output_type": "execute_result"
    }
   ],
   "source": [
    "df_HEE"
   ]
  },
  {
   "cell_type": "code",
   "execution_count": 5,
   "metadata": {},
   "outputs": [
    {
     "data": {
      "text/html": [
       "<div>\n",
       "<style scoped>\n",
       "    .dataframe tbody tr th:only-of-type {\n",
       "        vertical-align: middle;\n",
       "    }\n",
       "\n",
       "    .dataframe tbody tr th {\n",
       "        vertical-align: top;\n",
       "    }\n",
       "\n",
       "    .dataframe thead th {\n",
       "        text-align: right;\n",
       "    }\n",
       "</style>\n",
       "<table border=\"1\" class=\"dataframe\">\n",
       "  <thead>\n",
       "    <tr style=\"text-align: right;\">\n",
       "      <th></th>\n",
       "      <th>Atheism</th>\n",
       "      <th>buddhist</th>\n",
       "      <th>christian</th>\n",
       "      <th>hindu</th>\n",
       "      <th>muslim</th>\n",
       "      <th>jewish</th>\n",
       "      <th>sikh</th>\n",
       "      <th>other</th>\n",
       "      <th>unknown and prefer not to say</th>\n",
       "    </tr>\n",
       "  </thead>\n",
       "  <tbody>\n",
       "    <tr>\n",
       "      <th>anaesthesia</th>\n",
       "      <td>1278</td>\n",
       "      <td>45</td>\n",
       "      <td>1537</td>\n",
       "      <td>486</td>\n",
       "      <td>197</td>\n",
       "      <td>31</td>\n",
       "      <td>25</td>\n",
       "      <td>38</td>\n",
       "      <td>6850</td>\n",
       "    </tr>\n",
       "    <tr>\n",
       "      <th>Emergency Medicine</th>\n",
       "      <td>369</td>\n",
       "      <td>10</td>\n",
       "      <td>449</td>\n",
       "      <td>96</td>\n",
       "      <td>102</td>\n",
       "      <td>11</td>\n",
       "      <td>7</td>\n",
       "      <td>6</td>\n",
       "      <td>1358</td>\n",
       "    </tr>\n",
       "    <tr>\n",
       "      <th>GP</th>\n",
       "      <td>5225</td>\n",
       "      <td>174</td>\n",
       "      <td>7632</td>\n",
       "      <td>1364</td>\n",
       "      <td>1789</td>\n",
       "      <td>175</td>\n",
       "      <td>282</td>\n",
       "      <td>187</td>\n",
       "      <td>46649</td>\n",
       "    </tr>\n",
       "    <tr>\n",
       "      <th>Medicine</th>\n",
       "      <td>2116</td>\n",
       "      <td>141</td>\n",
       "      <td>3350</td>\n",
       "      <td>845</td>\n",
       "      <td>856</td>\n",
       "      <td>121</td>\n",
       "      <td>58</td>\n",
       "      <td>93</td>\n",
       "      <td>13745</td>\n",
       "    </tr>\n",
       "    <tr>\n",
       "      <th>Obs&amp;gyne</th>\n",
       "      <td>334</td>\n",
       "      <td>19</td>\n",
       "      <td>806</td>\n",
       "      <td>292</td>\n",
       "      <td>190</td>\n",
       "      <td>12</td>\n",
       "      <td>11</td>\n",
       "      <td>16</td>\n",
       "      <td>2390</td>\n",
       "    </tr>\n",
       "    <tr>\n",
       "      <th>occupational medicine</th>\n",
       "      <td>68</td>\n",
       "      <td>0</td>\n",
       "      <td>120</td>\n",
       "      <td>9</td>\n",
       "      <td>8</td>\n",
       "      <td>2</td>\n",
       "      <td>0</td>\n",
       "      <td>1</td>\n",
       "      <td>359</td>\n",
       "    </tr>\n",
       "    <tr>\n",
       "      <th>opthalmology</th>\n",
       "      <td>181</td>\n",
       "      <td>14</td>\n",
       "      <td>404</td>\n",
       "      <td>105</td>\n",
       "      <td>100</td>\n",
       "      <td>9</td>\n",
       "      <td>8</td>\n",
       "      <td>12</td>\n",
       "      <td>1508</td>\n",
       "    </tr>\n",
       "    <tr>\n",
       "      <th>paediatrics</th>\n",
       "      <td>585</td>\n",
       "      <td>38</td>\n",
       "      <td>1120</td>\n",
       "      <td>446</td>\n",
       "      <td>204</td>\n",
       "      <td>35</td>\n",
       "      <td>9</td>\n",
       "      <td>34</td>\n",
       "      <td>3521</td>\n",
       "    </tr>\n",
       "    <tr>\n",
       "      <th>pathology</th>\n",
       "      <td>314</td>\n",
       "      <td>21</td>\n",
       "      <td>403</td>\n",
       "      <td>120</td>\n",
       "      <td>87</td>\n",
       "      <td>16</td>\n",
       "      <td>7</td>\n",
       "      <td>10</td>\n",
       "      <td>2035</td>\n",
       "    </tr>\n",
       "    <tr>\n",
       "      <th>psychiatry</th>\n",
       "      <td>936</td>\n",
       "      <td>51</td>\n",
       "      <td>1074</td>\n",
       "      <td>426</td>\n",
       "      <td>301</td>\n",
       "      <td>56</td>\n",
       "      <td>37</td>\n",
       "      <td>63</td>\n",
       "      <td>5264</td>\n",
       "    </tr>\n",
       "    <tr>\n",
       "      <th>publice health</th>\n",
       "      <td>139</td>\n",
       "      <td>1</td>\n",
       "      <td>168</td>\n",
       "      <td>16</td>\n",
       "      <td>20</td>\n",
       "      <td>7</td>\n",
       "      <td>2</td>\n",
       "      <td>8</td>\n",
       "      <td>686</td>\n",
       "    </tr>\n",
       "    <tr>\n",
       "      <th>radiology</th>\n",
       "      <td>519</td>\n",
       "      <td>36</td>\n",
       "      <td>822</td>\n",
       "      <td>251</td>\n",
       "      <td>215</td>\n",
       "      <td>22</td>\n",
       "      <td>19</td>\n",
       "      <td>30</td>\n",
       "      <td>4097</td>\n",
       "    </tr>\n",
       "    <tr>\n",
       "      <th>surgery</th>\n",
       "      <td>1142</td>\n",
       "      <td>41</td>\n",
       "      <td>2531</td>\n",
       "      <td>597</td>\n",
       "      <td>565</td>\n",
       "      <td>49</td>\n",
       "      <td>55</td>\n",
       "      <td>76</td>\n",
       "      <td>9003</td>\n",
       "    </tr>\n",
       "    <tr>\n",
       "      <th>other</th>\n",
       "      <td>10</td>\n",
       "      <td>1</td>\n",
       "      <td>16</td>\n",
       "      <td>2</td>\n",
       "      <td>3</td>\n",
       "      <td>1</td>\n",
       "      <td>1</td>\n",
       "      <td>0</td>\n",
       "      <td>42</td>\n",
       "    </tr>\n",
       "  </tbody>\n",
       "</table>\n",
       "</div>"
      ],
      "text/plain": [
       "                       Atheism  buddhist  christian  hindu  muslim  jewish  \\\n",
       "anaesthesia               1278        45       1537    486     197      31   \n",
       "Emergency Medicine         369        10        449     96     102      11   \n",
       "GP                        5225       174       7632   1364    1789     175   \n",
       "Medicine                  2116       141       3350    845     856     121   \n",
       "Obs&gyne                   334        19        806    292     190      12   \n",
       "occupational medicine       68         0        120      9       8       2   \n",
       "opthalmology               181        14        404    105     100       9   \n",
       "paediatrics                585        38       1120    446     204      35   \n",
       "pathology                  314        21        403    120      87      16   \n",
       "psychiatry                 936        51       1074    426     301      56   \n",
       "publice health             139         1        168     16      20       7   \n",
       "radiology                  519        36        822    251     215      22   \n",
       "surgery                   1142        41       2531    597     565      49   \n",
       "other                       10         1         16      2       3       1   \n",
       "\n",
       "                       sikh  other  unknown and prefer not to say  \n",
       "anaesthesia              25     38                           6850  \n",
       "Emergency Medicine        7      6                           1358  \n",
       "GP                      282    187                          46649  \n",
       "Medicine                 58     93                          13745  \n",
       "Obs&gyne                 11     16                           2390  \n",
       "occupational medicine     0      1                            359  \n",
       "opthalmology              8     12                           1508  \n",
       "paediatrics               9     34                           3521  \n",
       "pathology                 7     10                           2035  \n",
       "psychiatry               37     63                           5264  \n",
       "publice health            2      8                            686  \n",
       "radiology                19     30                           4097  \n",
       "surgery                  55     76                           9003  \n",
       "other                     1      0                             42  "
      ]
     },
     "execution_count": 5,
     "metadata": {},
     "output_type": "execute_result"
    }
   ],
   "source": [
    "df_GMC"
   ]
  },
  {
   "cell_type": "markdown",
   "metadata": {},
   "source": [
    "# 1. Obtain the contingency matrix of interest"
   ]
  },
  {
   "cell_type": "code",
   "execution_count": 6,
   "metadata": {},
   "outputs": [],
   "source": [
    "def get_contingency_from_data(df, specialty, religion):\n",
    "    \"\"\"\n",
    "    see supplementary materials. \n",
    "    in the form:\n",
    "    [[a, b],\n",
    "     [c, d]]\n",
    "    \"\"\"\n",
    "    a = df.loc[specialty, religion]\n",
    "    b = df[religion].sum() - a\n",
    "    c = df.loc[specialty, :].sum() - a\n",
    "    d = (df.sum().sum() - df.loc[specialty, :].sum()) - b\n",
    "    \n",
    "    contingency_table = np.array(\n",
    "        [[a, b],\n",
    "        [c, d]]\n",
    "    )\n",
    "    \n",
    "    chi2, p, dof, exp = chi2_contingency(contingency_table)\n",
    "    \n",
    "    ct = Table2x2(contingency_table)\n",
    "    RR = ct.riskratio \n",
    "    OR = ct.oddsratio\n",
    "    CI = ct.riskratio_confint()\n",
    "    OR_CI = ct.oddsratio_confint()\n",
    "    \n",
    "    print('RR', round(RR, 2), '95% CI', round(CI[0], 2), round(CI[1], 2))\n",
    "    print ('chi2', round(chi2, 1), f'p {p:.2e}', 'dof', dof)\n",
    "    return contingency_table, chi2, p, dof, exp, OR, OR_CI"
   ]
  },
  {
   "cell_type": "code",
   "execution_count": 7,
   "metadata": {},
   "outputs": [],
   "source": [
    "def printround(item):\n",
    "    return round(item,2)"
   ]
  },
  {
   "cell_type": "markdown",
   "metadata": {},
   "source": [
    "# 2. HEE: RRs & ORs with CIs \n",
    "\n",
    "### odds ratios preferred esp when we don't know a significant portion of the religious affiliations (GMC>>HEE) (use especially when excluding unknowns as per 4 below)\n",
    "\n",
    "### can use RR if not using 4 below, but note for GMC (3 below) lots of uknowns\n",
    "\n",
    "#### note these p values are uncorrected, see other notebook"
   ]
  },
  {
   "cell_type": "code",
   "execution_count": null,
   "metadata": {},
   "outputs": [],
   "source": [
    "contingency_table, chi2, p, dof, exp, OR, OR_CI = get_contingency_from_data(df_HEE, 'Anaesthetics', 'islam')\n",
    "\n",
    "print('\\n')\n",
    "print(OR)\n",
    "print(OR_CI)"
   ]
  },
  {
   "cell_type": "code",
   "execution_count": null,
   "metadata": {},
   "outputs": [],
   "source": [
    "exp"
   ]
  },
  {
   "cell_type": "code",
   "execution_count": null,
   "metadata": {},
   "outputs": [],
   "source": []
  },
  {
   "cell_type": "code",
   "execution_count": null,
   "metadata": {},
   "outputs": [],
   "source": [
    "contingency_table, chi2, p, dof, exp, OR, OR_CI = get_contingency_from_data(df_HEE, 'Medicine', 'Buddhism')\n",
    "\n",
    "print('\\n')\n",
    "print(OR)\n",
    "print(OR_CI)\n"
   ]
  },
  {
   "cell_type": "code",
   "execution_count": null,
   "metadata": {},
   "outputs": [],
   "source": [
    "exp"
   ]
  },
  {
   "cell_type": "code",
   "execution_count": null,
   "metadata": {},
   "outputs": [],
   "source": []
  },
  {
   "cell_type": "code",
   "execution_count": null,
   "metadata": {},
   "outputs": [],
   "source": [
    "contingency_table, chi2, p, dof, exp, OR, OR_CI = get_contingency_from_data(df_HEE, 'Medicine', 'islam')\n",
    "\n",
    "print('\\n')\n",
    "print(OR)\n",
    "print(OR_CI)"
   ]
  },
  {
   "cell_type": "code",
   "execution_count": null,
   "metadata": {},
   "outputs": [],
   "source": [
    "exp"
   ]
  },
  {
   "cell_type": "code",
   "execution_count": null,
   "metadata": {},
   "outputs": [],
   "source": []
  },
  {
   "cell_type": "code",
   "execution_count": null,
   "metadata": {},
   "outputs": [],
   "source": [
    "contingency_table, chi2, p, dof, exp, OR, OR_CI = get_contingency_from_data(df_HEE, 'public health', 'islam')\n",
    "\n",
    "print('\\n')\n",
    "print(round(OR, 2))\n",
    "list(map(printround, OR_CI))\n"
   ]
  },
  {
   "cell_type": "code",
   "execution_count": null,
   "metadata": {},
   "outputs": [],
   "source": []
  },
  {
   "cell_type": "code",
   "execution_count": null,
   "metadata": {},
   "outputs": [],
   "source": []
  },
  {
   "cell_type": "code",
   "execution_count": null,
   "metadata": {},
   "outputs": [],
   "source": [
    "contingency_table, chi2, p, dof, exp, OR, OR_CI = get_contingency_from_data(df_HEE, 'Medicine', 'Christianity')\n",
    "\n",
    "print('\\n')\n",
    "print(round(OR, 2))\n",
    "list(map(printround, OR_CI))"
   ]
  },
  {
   "cell_type": "code",
   "execution_count": null,
   "metadata": {},
   "outputs": [],
   "source": [
    "0.005"
   ]
  },
  {
   "cell_type": "code",
   "execution_count": null,
   "metadata": {},
   "outputs": [],
   "source": []
  },
  {
   "cell_type": "code",
   "execution_count": null,
   "metadata": {},
   "outputs": [],
   "source": [
    "contingency_table, chi2, p, dof, exp, OR, OR_CI = get_contingency_from_data(df_HEE, 'Anaesthetics', 'Atheism')\n",
    "\n",
    "print('\\n')\n",
    "print(round(OR, 2))\n",
    "list(map(printround, OR_CI))"
   ]
  },
  {
   "cell_type": "code",
   "execution_count": null,
   "metadata": {},
   "outputs": [],
   "source": []
  },
  {
   "cell_type": "code",
   "execution_count": null,
   "metadata": {},
   "outputs": [],
   "source": []
  },
  {
   "cell_type": "code",
   "execution_count": null,
   "metadata": {},
   "outputs": [],
   "source": []
  },
  {
   "cell_type": "code",
   "execution_count": null,
   "metadata": {
    "scrolled": true
   },
   "outputs": [],
   "source": [
    "contingency_table, chi2, p, dof, exp, OR, OR_CI = get_contingency_from_data(df_HEE, 'Emergency medicine', 'Atheism')\n",
    "\n",
    "print('\\n')\n",
    "print(round(OR, 2))\n",
    "list(map(printround, OR_CI))"
   ]
  },
  {
   "cell_type": "code",
   "execution_count": null,
   "metadata": {},
   "outputs": [],
   "source": [
    "contingency_table, chi2, p, dof, exp, OR, OR_CI = get_contingency_from_data(df_HEE, 'GP', 'Atheism')\n",
    "\n",
    "print('\\n')\n",
    "print(round(OR, 2))\n",
    "list(map(printround, OR_CI))"
   ]
  },
  {
   "cell_type": "code",
   "execution_count": null,
   "metadata": {},
   "outputs": [],
   "source": [
    "contingency_table, chi2, p, dof, exp, OR, OR_CI = get_contingency_from_data(df_HEE, 'O&G', 'Atheism')\n",
    "\n",
    "print('\\n')\n",
    "print(round(OR, 2))\n",
    "list(map(printround, OR_CI))"
   ]
  },
  {
   "cell_type": "code",
   "execution_count": null,
   "metadata": {},
   "outputs": [],
   "source": [
    "contingency_table, chi2, p, dof, exp, OR, OR_CI = get_contingency_from_data(df_HEE, 'public health', 'Atheism')\n",
    "\n",
    "print('\\n')\n",
    "print(round(OR, 2))\n",
    "list(map(printround, OR_CI))"
   ]
  },
  {
   "cell_type": "code",
   "execution_count": null,
   "metadata": {},
   "outputs": [],
   "source": []
  },
  {
   "cell_type": "code",
   "execution_count": null,
   "metadata": {},
   "outputs": [],
   "source": []
  },
  {
   "cell_type": "code",
   "execution_count": null,
   "metadata": {},
   "outputs": [],
   "source": []
  },
  {
   "cell_type": "code",
   "execution_count": null,
   "metadata": {},
   "outputs": [],
   "source": []
  },
  {
   "cell_type": "code",
   "execution_count": null,
   "metadata": {},
   "outputs": [],
   "source": []
  },
  {
   "cell_type": "code",
   "execution_count": null,
   "metadata": {},
   "outputs": [],
   "source": []
  },
  {
   "cell_type": "code",
   "execution_count": null,
   "metadata": {},
   "outputs": [],
   "source": []
  },
  {
   "cell_type": "code",
   "execution_count": null,
   "metadata": {},
   "outputs": [],
   "source": []
  },
  {
   "cell_type": "markdown",
   "metadata": {},
   "source": [
    "# 3. GMC: RRs & ORs with CIs"
   ]
  },
  {
   "cell_type": "code",
   "execution_count": 18,
   "metadata": {},
   "outputs": [
    {
     "name": "stdout",
     "output_type": "stream",
     "text": [
      "RR 0.51 95% CI 0.44 0.58\n",
      "chi2 97.3 p 5.83e-23 dof 1\n",
      "\n",
      "\n",
      "0.48\n"
     ]
    },
    {
     "data": {
      "text/plain": [
       "[0.42, 0.56]"
      ]
     },
     "execution_count": 18,
     "metadata": {},
     "output_type": "execute_result"
    }
   ],
   "source": [
    "contingency_table, chi2, p, dof, exp, OR, OR_CI = get_contingency_from_data(df_GMC, 'anaesthesia', 'muslim')\n",
    "print('\\n')\n",
    "print(round(OR, 2))\n",
    "list(map(printround, OR_CI))\n"
   ]
  },
  {
   "cell_type": "code",
   "execution_count": 19,
   "metadata": {},
   "outputs": [
    {
     "data": {
      "text/plain": [
       "array([[  370.05242024,  4266.94757976],\n",
       "       [ 3266.94757976, 37670.05242024]])"
      ]
     },
     "execution_count": 19,
     "metadata": {},
     "output_type": "execute_result"
    }
   ],
   "source": [
    "exp"
   ]
  },
  {
   "cell_type": "code",
   "execution_count": null,
   "metadata": {},
   "outputs": [],
   "source": [
    "340-197 # expected (unknowns included) minus actual (for unknowns excluded after 4 below, 340 becomes 370)"
   ]
  },
  {
   "cell_type": "code",
   "execution_count": null,
   "metadata": {},
   "outputs": [],
   "source": [
    "143/340 # deficit"
   ]
  },
  {
   "cell_type": "code",
   "execution_count": null,
   "metadata": {},
   "outputs": [],
   "source": [
    "197/340"
   ]
  },
  {
   "cell_type": "code",
   "execution_count": null,
   "metadata": {},
   "outputs": [],
   "source": [
    "# in HEE data in 2019 there were 70 muslim applicants to anaesthesia, \n",
    "# so if it were to double and p proportion of applicants were successful:\n",
    "#     **Min** number of training cohorts for this Muslim-Anaesthesia deficit to be mitigated = 143/(proportion_success*70*2)"
   ]
  },
  {
   "cell_type": "code",
   "execution_count": 25,
   "metadata": {},
   "outputs": [
    {
     "data": {
      "text/plain": [
       "2.0428571428571427"
      ]
     },
     "execution_count": 25,
     "metadata": {},
     "output_type": "execute_result"
    }
   ],
   "source": [
    "proportion_success = 0.5  # optimistic\n",
    "(340-197)/(proportion_success*70*2)"
   ]
  },
  {
   "cell_type": "code",
   "execution_count": 26,
   "metadata": {},
   "outputs": [],
   "source": [
    "# therefore needs to double for at least 2 training cohorts "
   ]
  },
  {
   "cell_type": "code",
   "execution_count": null,
   "metadata": {},
   "outputs": [],
   "source": []
  },
  {
   "cell_type": "code",
   "execution_count": null,
   "metadata": {},
   "outputs": [],
   "source": []
  },
  {
   "cell_type": "code",
   "execution_count": 27,
   "metadata": {},
   "outputs": [
    {
     "name": "stdout",
     "output_type": "stream",
     "text": [
      "RR 0.71 95% CI 0.67 0.74\n",
      "chi2 240.8 p 2.65e-54 dof 1\n",
      "\n",
      "\n",
      "0.6\n"
     ]
    },
    {
     "data": {
      "text/plain": [
       "[0.56, 0.64]"
      ]
     },
     "execution_count": 27,
     "metadata": {},
     "output_type": "execute_result"
    }
   ],
   "source": [
    "contingency_table, chi2, p, dof, exp, OR, OR_CI = get_contingency_from_data(df_GMC, 'GP', 'hindu')\n",
    "print('\\n')\n",
    "print(round(OR, 2))\n",
    "list(map(printround, OR_CI))"
   ]
  },
  {
   "cell_type": "code",
   "execution_count": null,
   "metadata": {},
   "outputs": [],
   "source": []
  },
  {
   "cell_type": "code",
   "execution_count": 28,
   "metadata": {},
   "outputs": [
    {
     "name": "stdout",
     "output_type": "stream",
     "text": [
      "RR 1.69 95% CI 1.49 1.91\n",
      "chi2 69.3 p 8.46e-17 dof 1\n",
      "\n",
      "\n",
      "1.73\n"
     ]
    },
    {
     "data": {
      "text/plain": [
       "[1.52, 1.97]"
      ]
     },
     "execution_count": 28,
     "metadata": {},
     "output_type": "execute_result"
    }
   ],
   "source": [
    "contingency_table, chi2, p, dof, exp, OR, OR_CI = get_contingency_from_data(df_GMC, 'Obs&gyne', 'hindu')\n",
    "print('\\n')\n",
    "print(round(OR, 2))\n",
    "list(map(printround, OR_CI))"
   ]
  },
  {
   "cell_type": "code",
   "execution_count": null,
   "metadata": {},
   "outputs": [],
   "source": []
  },
  {
   "cell_type": "code",
   "execution_count": 30,
   "metadata": {},
   "outputs": [
    {
     "name": "stdout",
     "output_type": "stream",
     "text": [
      "RR 1.77 95% CI 1.6 1.95\n",
      "chi2 127.5 p 1.44e-29 dof 1\n",
      "\n",
      "\n",
      "1.84\n"
     ]
    },
    {
     "data": {
      "text/plain": [
       "[1.65, 2.05]"
      ]
     },
     "execution_count": 30,
     "metadata": {},
     "output_type": "execute_result"
    }
   ],
   "source": [
    "contingency_table, chi2, p, dof, exp, OR, OR_CI = get_contingency_from_data(df_GMC, 'paediatrics', 'hindu')\n",
    "print('\\n')\n",
    "print(round(OR, 2))\n",
    "list(map(printround, OR_CI))"
   ]
  },
  {
   "cell_type": "code",
   "execution_count": null,
   "metadata": {},
   "outputs": [],
   "source": []
  },
  {
   "cell_type": "markdown",
   "metadata": {},
   "source": [
    "# 4. ok so above uses unknowns, we now need to check the magnitude of these effects with sensitivity analyses"
   ]
  },
  {
   "cell_type": "markdown",
   "metadata": {},
   "source": [
    "## 4.1 removing unknowns"
   ]
  },
  {
   "cell_type": "code",
   "execution_count": null,
   "metadata": {},
   "outputs": [],
   "source": [
    "# simply run this then run above again:\n",
    "df_HEE.drop(columns=['unknown'], inplace=True)"
   ]
  },
  {
   "cell_type": "code",
   "execution_count": 17,
   "metadata": {},
   "outputs": [],
   "source": [
    "df_GMC.drop(columns=['unknown and prefer not to say'], inplace=True)"
   ]
  },
  {
   "cell_type": "code",
   "execution_count": null,
   "metadata": {},
   "outputs": [],
   "source": []
  },
  {
   "cell_type": "code",
   "execution_count": null,
   "metadata": {},
   "outputs": [],
   "source": []
  },
  {
   "cell_type": "markdown",
   "metadata": {},
   "source": [
    "## 4.2 redistributing unknowns based on UK Doctor's Data"
   ]
  },
  {
   "cell_type": "code",
   "execution_count": null,
   "metadata": {},
   "outputs": [],
   "source": []
  }
 ],
 "metadata": {
  "kernelspec": {
   "display_name": "Python 3",
   "language": "python",
   "name": "python3"
  },
  "language_info": {
   "codemirror_mode": {
    "name": "ipython",
    "version": 3
   },
   "file_extension": ".py",
   "mimetype": "text/x-python",
   "name": "python",
   "nbconvert_exporter": "python",
   "pygments_lexer": "ipython3",
   "version": "3.6.10"
  }
 },
 "nbformat": 4,
 "nbformat_minor": 4
}
